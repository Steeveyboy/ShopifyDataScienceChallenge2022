{
 "cells": [
  {
   "cell_type": "markdown",
   "id": "2d5da05c-42fd-4be5-b46a-db81d64d81f0",
   "metadata": {},
   "source": [
    "# Shopify Data Science Intern Challenge"
   ]
  },
  {
   "cell_type": "markdown",
   "id": "2a69cf83-6ba1-4181-9fa9-88df9bbeaf5f",
   "metadata": {},
   "source": [
    "### Investigating sneaker sales data using pandas"
   ]
  },
  {
   "cell_type": "code",
   "execution_count": 71,
   "id": "63448b97-7a16-4dbe-a19e-e5cb5f501f0f",
   "metadata": {},
   "outputs": [],
   "source": [
    "import numpy as np\n",
    "import pandas as pd\n",
    "import seaborn as sns\n",
    "import matplotlib.pyplot as plt\n",
    "%matplotlib inline"
   ]
  },
  {
   "cell_type": "code",
   "execution_count": 25,
   "id": "4a39887e-bf72-4a11-b655-80fde006627d",
   "metadata": {},
   "outputs": [],
   "source": [
    "df = pd.read_csv(\"Shopify_DS_Intern_Challenge_Data_Set.csv\")"
   ]
  },
  {
   "cell_type": "code",
   "execution_count": 26,
   "id": "f7e30734-91c5-4ead-bd64-1d3aa0771b5d",
   "metadata": {},
   "outputs": [
    {
     "data": {
      "text/plain": [
       "order_id          5000\n",
       "shop_id            100\n",
       "user_id            301\n",
       "order_amount       258\n",
       "total_items          8\n",
       "payment_method       3\n",
       "created_at        4991\n",
       "dtype: int64"
      ]
     },
     "execution_count": 26,
     "metadata": {},
     "output_type": "execute_result"
    }
   ],
   "source": [
    "df.nunique()"
   ]
  },
  {
   "cell_type": "code",
   "execution_count": 107,
   "id": "fef380a2-c0b1-4cce-8ffe-80317389a516",
   "metadata": {},
   "outputs": [
    {
     "data": {
      "text/html": [
       "<div>\n",
       "<style scoped>\n",
       "    .dataframe tbody tr th:only-of-type {\n",
       "        vertical-align: middle;\n",
       "    }\n",
       "\n",
       "    .dataframe tbody tr th {\n",
       "        vertical-align: top;\n",
       "    }\n",
       "\n",
       "    .dataframe thead th {\n",
       "        text-align: right;\n",
       "    }\n",
       "</style>\n",
       "<table border=\"1\" class=\"dataframe\">\n",
       "  <thead>\n",
       "    <tr style=\"text-align: right;\">\n",
       "      <th></th>\n",
       "      <th>count</th>\n",
       "      <th>mean</th>\n",
       "      <th>std</th>\n",
       "      <th>min</th>\n",
       "      <th>25%</th>\n",
       "      <th>50%</th>\n",
       "      <th>75%</th>\n",
       "      <th>max</th>\n",
       "    </tr>\n",
       "  </thead>\n",
       "  <tbody>\n",
       "    <tr>\n",
       "      <th>order_id</th>\n",
       "      <td>5000.0</td>\n",
       "      <td>2500.5000</td>\n",
       "      <td>1443.520003</td>\n",
       "      <td>1.0</td>\n",
       "      <td>1250.75</td>\n",
       "      <td>2500.5</td>\n",
       "      <td>3750.25</td>\n",
       "      <td>5000.0</td>\n",
       "    </tr>\n",
       "    <tr>\n",
       "      <th>shop_id</th>\n",
       "      <td>5000.0</td>\n",
       "      <td>50.0788</td>\n",
       "      <td>29.006118</td>\n",
       "      <td>1.0</td>\n",
       "      <td>24.00</td>\n",
       "      <td>50.0</td>\n",
       "      <td>75.00</td>\n",
       "      <td>100.0</td>\n",
       "    </tr>\n",
       "    <tr>\n",
       "      <th>user_id</th>\n",
       "      <td>5000.0</td>\n",
       "      <td>849.0924</td>\n",
       "      <td>87.798982</td>\n",
       "      <td>607.0</td>\n",
       "      <td>775.00</td>\n",
       "      <td>849.0</td>\n",
       "      <td>925.00</td>\n",
       "      <td>999.0</td>\n",
       "    </tr>\n",
       "    <tr>\n",
       "      <th>order_amount</th>\n",
       "      <td>5000.0</td>\n",
       "      <td>3145.1280</td>\n",
       "      <td>41282.539349</td>\n",
       "      <td>90.0</td>\n",
       "      <td>163.00</td>\n",
       "      <td>284.0</td>\n",
       "      <td>390.00</td>\n",
       "      <td>704000.0</td>\n",
       "    </tr>\n",
       "    <tr>\n",
       "      <th>total_items</th>\n",
       "      <td>5000.0</td>\n",
       "      <td>8.7872</td>\n",
       "      <td>116.320320</td>\n",
       "      <td>1.0</td>\n",
       "      <td>1.00</td>\n",
       "      <td>2.0</td>\n",
       "      <td>3.00</td>\n",
       "      <td>2000.0</td>\n",
       "    </tr>\n",
       "  </tbody>\n",
       "</table>\n",
       "</div>"
      ],
      "text/plain": [
       "               count       mean           std    min      25%     50%  \\\n",
       "order_id      5000.0  2500.5000   1443.520003    1.0  1250.75  2500.5   \n",
       "shop_id       5000.0    50.0788     29.006118    1.0    24.00    50.0   \n",
       "user_id       5000.0   849.0924     87.798982  607.0   775.00   849.0   \n",
       "order_amount  5000.0  3145.1280  41282.539349   90.0   163.00   284.0   \n",
       "total_items   5000.0     8.7872    116.320320    1.0     1.00     2.0   \n",
       "\n",
       "                  75%       max  \n",
       "order_id      3750.25    5000.0  \n",
       "shop_id         75.00     100.0  \n",
       "user_id        925.00     999.0  \n",
       "order_amount   390.00  704000.0  \n",
       "total_items      3.00    2000.0  "
      ]
     },
     "execution_count": 107,
     "metadata": {},
     "output_type": "execute_result"
    }
   ],
   "source": [
    "df.describe().T"
   ]
  },
  {
   "cell_type": "code",
   "execution_count": 72,
   "id": "04162fcd-a1e8-4e22-81e1-6fa9f8aeed92",
   "metadata": {},
   "outputs": [
    {
     "data": {
      "text/plain": [
       "<AxesSubplot:title={'center':'Total Items Per Order log scale'}, xlabel='total_items', ylabel='Count'>"
      ]
     },
     "execution_count": 72,
     "metadata": {},
     "output_type": "execute_result"
    },
    {
     "data": {
      "image/png": "[encoded data removed]",
      "text/plain": [
       "<Figure size 1152x288 with 2 Axes>"
      ]
     },
     "metadata": {},
     "output_type": "display_data"
    }
   ],
   "source": [
    "fig, (ax1, ax2) = plt.subplots(1, 2, figsize=(16, 4))\n",
    "ax1.set_title(\"Total Order Amount log scale\")\n",
    "ax2.set_title(\"Total Items Per Order log scale\")\n",
    "sns.histplot(data=df, x=\"order_amount\", palette=\"light:m_r\", log_scale=True, edgecolor=\".3\", linewidth=.5, ax=ax1)\n",
    "sns.histplot(data=df, x=\"total_items\", palette=\"light:m_r\", log_scale=True, edgecolor=\".3\", linewidth=.5, ax=ax2)"
   ]
  },
  {
   "cell_type": "markdown",
   "id": "d025efa5-8996-4763-a599-eed11fa0d91f",
   "metadata": {},
   "source": [
    "## Question 1 A)\n",
    "As visualised above, in the Total Order Amount Log Scale Graph, due to a few outliers the data is clearly skewed to the right.\n",
    "This could be the cause of the such a high Average Order Value, a possible alternative could be to use the median order value of 284.00 dollars.\n",
    "Another solution could be to remove the outliers from the data set and recalculate the mean, this would year an average order value of 302.58 dollars."
   ]
  },
  {
   "cell_type": "code",
   "execution_count": 103,
   "id": "f934cbdf-a77d-41f9-a105-f7197b8c04c3",
   "metadata": {},
   "outputs": [
    {
     "data": {
      "text/html": [
       "<div>\n",
       "<style scoped>\n",
       "    .dataframe tbody tr th:only-of-type {\n",
       "        vertical-align: middle;\n",
       "    }\n",
       "\n",
       "    .dataframe tbody tr th {\n",
       "        vertical-align: top;\n",
       "    }\n",
       "\n",
       "    .dataframe thead th {\n",
       "        text-align: right;\n",
       "    }\n",
       "</style>\n",
       "<table border=\"1\" class=\"dataframe\">\n",
       "  <thead>\n",
       "    <tr style=\"text-align: right;\">\n",
       "      <th></th>\n",
       "      <th>count</th>\n",
       "      <th>mean</th>\n",
       "      <th>std</th>\n",
       "      <th>min</th>\n",
       "      <th>25%</th>\n",
       "      <th>50%</th>\n",
       "      <th>75%</th>\n",
       "      <th>max</th>\n",
       "    </tr>\n",
       "  </thead>\n",
       "  <tbody>\n",
       "    <tr>\n",
       "      <th>order_id</th>\n",
       "      <td>4937.0</td>\n",
       "      <td>2499.551347</td>\n",
       "      <td>1444.069407</td>\n",
       "      <td>1.0</td>\n",
       "      <td>1248.0</td>\n",
       "      <td>2497.0</td>\n",
       "      <td>3751.0</td>\n",
       "      <td>5000.0</td>\n",
       "    </tr>\n",
       "    <tr>\n",
       "      <th>shop_id</th>\n",
       "      <td>4937.0</td>\n",
       "      <td>49.846465</td>\n",
       "      <td>29.061131</td>\n",
       "      <td>1.0</td>\n",
       "      <td>24.0</td>\n",
       "      <td>50.0</td>\n",
       "      <td>74.0</td>\n",
       "      <td>100.0</td>\n",
       "    </tr>\n",
       "    <tr>\n",
       "      <th>user_id</th>\n",
       "      <td>4937.0</td>\n",
       "      <td>849.752279</td>\n",
       "      <td>86.840313</td>\n",
       "      <td>700.0</td>\n",
       "      <td>775.0</td>\n",
       "      <td>850.0</td>\n",
       "      <td>925.0</td>\n",
       "      <td>999.0</td>\n",
       "    </tr>\n",
       "    <tr>\n",
       "      <th>order_amount</th>\n",
       "      <td>4937.0</td>\n",
       "      <td>302.580514</td>\n",
       "      <td>160.804912</td>\n",
       "      <td>90.0</td>\n",
       "      <td>163.0</td>\n",
       "      <td>284.0</td>\n",
       "      <td>387.0</td>\n",
       "      <td>1760.0</td>\n",
       "    </tr>\n",
       "    <tr>\n",
       "      <th>total_items</th>\n",
       "      <td>4937.0</td>\n",
       "      <td>1.994734</td>\n",
       "      <td>0.982821</td>\n",
       "      <td>1.0</td>\n",
       "      <td>1.0</td>\n",
       "      <td>2.0</td>\n",
       "      <td>3.0</td>\n",
       "      <td>8.0</td>\n",
       "    </tr>\n",
       "  </tbody>\n",
       "</table>\n",
       "</div>"
      ],
      "text/plain": [
       "               count         mean          std    min     25%     50%     75%  \\\n",
       "order_id      4937.0  2499.551347  1444.069407    1.0  1248.0  2497.0  3751.0   \n",
       "shop_id       4937.0    49.846465    29.061131    1.0    24.0    50.0    74.0   \n",
       "user_id       4937.0   849.752279    86.840313  700.0   775.0   850.0   925.0   \n",
       "order_amount  4937.0   302.580514   160.804912   90.0   163.0   284.0   387.0   \n",
       "total_items   4937.0     1.994734     0.982821    1.0     1.0     2.0     3.0   \n",
       "\n",
       "                 max  \n",
       "order_id      5000.0  \n",
       "shop_id        100.0  \n",
       "user_id        999.0  \n",
       "order_amount  1760.0  \n",
       "total_items      8.0  "
      ]
     },
     "execution_count": 103,
     "metadata": {},
     "output_type": "execute_result"
    }
   ],
   "source": [
    "reducedData = df[df[\"order_amount\"]<10000]\n",
    "reducedData.describe().T"
   ]
  },
  {
   "cell_type": "code",
   "execution_count": 90,
   "id": "7da217c2-ba3c-459b-9546-008c24199861",
   "metadata": {},
   "outputs": [
    {
     "data": {
      "text/plain": [
       "<AxesSubplot:title={'center':'Total Items Per Order log scale'}, xlabel='total_items', ylabel='Count'>"
      ]
     },
     "execution_count": 90,
     "metadata": {},
     "output_type": "execute_result"
    },
    {
     "data": {
      "image/png": "[encoded data removed]",
      "text/plain": [
       "<Figure size 1152x288 with 2 Axes>"
      ]
     },
     "metadata": {},
     "output_type": "display_data"
    }
   ],
   "source": [
    "fig, (ax1, ax2) = plt.subplots(1, 2, figsize=(16, 4))\n",
    "ax1.set_title(\"Total Order Amount log scale\")\n",
    "ax2.set_title(\"Total Items Per Order log scale\")\n",
    "sns.histplot(data=reducedData, x=\"order_amount\", palette=\"light:m_r\", log_scale=True, edgecolor=\".3\", linewidth=.5, ax=ax1)\n",
    "sns.histplot(data=reducedData, x=\"total_items\", palette=\"light:m_r\", log_scale=True, edgecolor=\".3\", linewidth=.5, ax=ax2)"
   ]
  },
  {
   "cell_type": "markdown",
   "id": "88d9ecf7-01d0-4c00-a53d-a1a8d37a68ea",
   "metadata": {},
   "source": [
    "## Question 1 B)\n",
    "An alternative metric for this data set could be to calculate the mean revenue per shop."
   ]
  },
  {
   "cell_type": "code",
   "execution_count": 122,
   "id": "733d8f82-8e56-402e-9a76-c89e74bc6700",
   "metadata": {},
   "outputs": [
    {
     "data": {
      "text/html": [
       "<div>\n",
       "<style scoped>\n",
       "    .dataframe tbody tr th:only-of-type {\n",
       "        vertical-align: middle;\n",
       "    }\n",
       "\n",
       "    .dataframe tbody tr th {\n",
       "        vertical-align: top;\n",
       "    }\n",
       "\n",
       "    .dataframe thead th {\n",
       "        text-align: right;\n",
       "    }\n",
       "</style>\n",
       "<table border=\"1\" class=\"dataframe\">\n",
       "  <thead>\n",
       "    <tr style=\"text-align: right;\">\n",
       "      <th></th>\n",
       "      <th>order_id</th>\n",
       "      <th>user_id</th>\n",
       "      <th>order_amount</th>\n",
       "      <th>total_items</th>\n",
       "    </tr>\n",
       "    <tr>\n",
       "      <th>shop_id</th>\n",
       "      <th></th>\n",
       "      <th></th>\n",
       "      <th></th>\n",
       "      <th></th>\n",
       "    </tr>\n",
       "  </thead>\n",
       "  <tbody>\n",
       "    <tr>\n",
       "      <th>1</th>\n",
       "      <td>110641</td>\n",
       "      <td>36679</td>\n",
       "      <td>13588</td>\n",
       "      <td>86</td>\n",
       "    </tr>\n",
       "    <tr>\n",
       "      <th>2</th>\n",
       "      <td>126448</td>\n",
       "      <td>47370</td>\n",
       "      <td>9588</td>\n",
       "      <td>102</td>\n",
       "    </tr>\n",
       "    <tr>\n",
       "      <th>3</th>\n",
       "      <td>110682</td>\n",
       "      <td>40690</td>\n",
       "      <td>14652</td>\n",
       "      <td>99</td>\n",
       "    </tr>\n",
       "    <tr>\n",
       "      <th>4</th>\n",
       "      <td>140128</td>\n",
       "      <td>44189</td>\n",
       "      <td>13184</td>\n",
       "      <td>103</td>\n",
       "    </tr>\n",
       "    <tr>\n",
       "      <th>5</th>\n",
       "      <td>112423</td>\n",
       "      <td>38800</td>\n",
       "      <td>13064</td>\n",
       "      <td>92</td>\n",
       "    </tr>\n",
       "    <tr>\n",
       "      <th>...</th>\n",
       "      <td>...</td>\n",
       "      <td>...</td>\n",
       "      <td>...</td>\n",
       "      <td>...</td>\n",
       "    </tr>\n",
       "    <tr>\n",
       "      <th>96</th>\n",
       "      <td>127305</td>\n",
       "      <td>44136</td>\n",
       "      <td>16830</td>\n",
       "      <td>110</td>\n",
       "    </tr>\n",
       "    <tr>\n",
       "      <th>97</th>\n",
       "      <td>120413</td>\n",
       "      <td>40542</td>\n",
       "      <td>15552</td>\n",
       "      <td>96</td>\n",
       "    </tr>\n",
       "    <tr>\n",
       "      <th>98</th>\n",
       "      <td>143310</td>\n",
       "      <td>50274</td>\n",
       "      <td>14231</td>\n",
       "      <td>107</td>\n",
       "    </tr>\n",
       "    <tr>\n",
       "      <th>99</th>\n",
       "      <td>128844</td>\n",
       "      <td>45693</td>\n",
       "      <td>18330</td>\n",
       "      <td>94</td>\n",
       "    </tr>\n",
       "    <tr>\n",
       "      <th>100</th>\n",
       "      <td>94261</td>\n",
       "      <td>34093</td>\n",
       "      <td>8547</td>\n",
       "      <td>77</td>\n",
       "    </tr>\n",
       "  </tbody>\n",
       "</table>\n",
       "<p>100 rows × 4 columns</p>\n",
       "</div>"
      ],
      "text/plain": [
       "         order_id  user_id  order_amount  total_items\n",
       "shop_id                                              \n",
       "1          110641    36679         13588           86\n",
       "2          126448    47370          9588          102\n",
       "3          110682    40690         14652           99\n",
       "4          140128    44189         13184          103\n",
       "5          112423    38800         13064           92\n",
       "...           ...      ...           ...          ...\n",
       "96         127305    44136         16830          110\n",
       "97         120413    40542         15552           96\n",
       "98         143310    50274         14231          107\n",
       "99         128844    45693         18330           94\n",
       "100         94261    34093          8547           77\n",
       "\n",
       "[100 rows x 4 columns]"
      ]
     },
     "execution_count": 122,
     "metadata": {},
     "output_type": "execute_result"
    }
   ],
   "source": [
    "df.groupby(\"shop_id\").sum()"
   ]
  },
  {
   "cell_type": "code",
   "execution_count": 137,
   "id": "552fe4c3-0524-4b72-a76a-6093d9193032",
   "metadata": {},
   "outputs": [
    {
     "data": {
      "text/plain": [
       "count    1.000000e+02\n",
       "mean     1.572564e+05\n",
       "std      1.216218e+06\n",
       "min      6.840000e+03\n",
       "25%      1.293050e+04\n",
       "50%      1.488750e+04\n",
       "75%      1.760000e+04\n",
       "max      1.199018e+07\n",
       "Name: order_amount, dtype: float64"
      ]
     },
     "execution_count": 137,
     "metadata": {},
     "output_type": "execute_result"
    }
   ],
   "source": [
    "df.groupby(\"shop_id\").sum().describe()[\"order_amount\"]"
   ]
  },
  {
   "cell_type": "code",
   "execution_count": 139,
   "id": "b055e2bb-a640-4175-b65b-8746b5e32ac6",
   "metadata": {},
   "outputs": [
    {
     "data": {
      "text/plain": [
       "157256.4"
      ]
     },
     "execution_count": 139,
     "metadata": {},
     "output_type": "execute_result"
    }
   ],
   "source": [
    "df.groupby(\"shop_id\").sum()[\"order_amount\"].mean()"
   ]
  },
  {
   "cell_type": "markdown",
   "id": "79fb1801-0a41-4b8c-a94b-16e2581e6f5e",
   "metadata": {},
   "source": [
    "## Question 1 C)\n",
    "The mean order amount per shop is 157256.40 dollars."
   ]
  },
  {
   "cell_type": "markdown",
   "id": "6c5f520a-db7d-4e82-a9fe-a52b85673cc0",
   "metadata": {},
   "source": [
    "# Question 2: Navigating Shipping Database using SQL Queries\n",
    "\n",
    "A) How many orders were shipped by Speedy Express in total?\n",
    "\n",
    "    Answer: 68;\n",
    "    SQL Query: SELECT COUNT(ShipperID) FROM [Orders] WHERE ShipperID = 3;\n",
    "    \n",
    "B) What is the last name of the employee with the most orders?\n",
    "\n",
    "    Answer: Peacock;\n",
    "    SQL Query: SELECT Employees.EmployeeID, Employees.LastName, COUNT(Orders.OrderID), Orders.EmployeeID FROM Orders\n",
    "                LEFT JOIN Employees ON Orders.EmployeeID = Employees.EmployeeID\n",
    "                GROUP BY(Orders.EmployeeID) ORDER BY COUNT(Orders.OrderID);\n",
    "                \n",
    "B) What is the last name of the employee with the most orders?\n",
    "\n",
    "    Answer: Gorgonzola Telino\n",
    "    SQL Query: FROM Customers\n",
    "                LEFT JOIN Orders ON Orders.CustomerID = Customers.CustomerID\n",
    "                LEFT JOIN OrderDetails ON OrderDetails.OrderID = Orders.OrderID\n",
    "                LEFT JOIN Products ON Products.ProductID = OrderDetails.ProductID\n",
    "                WHERE Country = \"Germany\"\n",
    "                GROUP BY OrderDetails.ProductID ORDER BY COUNT(Orders.OrderID);\n"
   ]
  }
 ],
 "metadata": {
  "kernelspec": {
   "display_name": "Python 3",
   "language": "python",
   "name": "python3"
  },
  "language_info": {
   "codemirror_mode": {
    "name": "ipython",
    "version": 3
   },
   "file_extension": ".py",
   "mimetype": "text/x-python",
   "name": "python",
   "nbconvert_exporter": "python",
   "pygments_lexer": "ipython3",
   "version": "3.8.3"
  }
 },
 "nbformat": 4,
 "nbformat_minor": 5
}
